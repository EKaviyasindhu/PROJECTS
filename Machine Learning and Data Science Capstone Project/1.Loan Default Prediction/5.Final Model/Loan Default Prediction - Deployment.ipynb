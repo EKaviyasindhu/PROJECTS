{
 "cells": [
  {
   "cell_type": "code",
   "execution_count": 1,
   "id": "9dd9dac7-0159-4a59-9f0c-5719ad41d13a",
   "metadata": {},
   "outputs": [],
   "source": [
    "import pickle\n",
    "import pandas as pd"
   ]
  },
  {
   "cell_type": "code",
   "execution_count": 2,
   "id": "e3005658-7631-4733-85a6-d8827d39f8a0",
   "metadata": {},
   "outputs": [],
   "source": [
    "# Load pipeline\n",
    "with open(\"final_pipeline.pkl\", \"rb\") as f:\n",
    "    pipeline = pickle.load(f)\n",
    "\n",
    "# Get expected feature names\n",
    "expected_features = pipeline.feature_names_in_\n",
    "\n",
    "# Create empty row with all features = 0\n",
    "user_row = pd.DataFrame([[0]*len(expected_features)], columns=expected_features)"
   ]
  },
  {
   "cell_type": "markdown",
   "id": "947351b8-028c-4c85-ab5f-9169791a628e",
   "metadata": {},
   "source": [
    "<h1>Sample Data to Get 'No Defualt' as a Result</h1>"
   ]
  },
  {
   "cell_type": "code",
   "execution_count": 3,
   "id": "70802f9f-6780-4da9-bde8-7883fbbb68eb",
   "metadata": {},
   "outputs": [
    {
     "name": "stdout",
     "output_type": "stream",
     "text": [
      "Prediction: No Default\n"
     ]
    }
   ],
   "source": [
    "\n",
    "# Fill numeric values (make sure the names match your training features)\n",
    "numeric_values = {\n",
    "    \"Age\": 35,\n",
    "    \"Income\": 84208,\n",
    "    \"LoanAmount\": 129188,\n",
    "    \"CreditScore\": 451,\n",
    "    \"MonthsEmployed\": 26,\n",
    "    \"NumCreditLines\": 3,\n",
    "    \"InterestRate\": 21.17,\n",
    "    \"LoanTerm\": 24,\n",
    "    \"DTIRatio\": 0.31\n",
    "}\n",
    "\n",
    "for col, val in numeric_values.items():\n",
    "    if col in expected_features:\n",
    "        user_row[col] = val\n",
    "\n",
    "# Fill categorical one-hot values, but only if feature exists in expected_features\n",
    "categorical_values = {\n",
    "    \"Education_Graduate\": 0,\n",
    "    \"EmploymentType_Salaried\": 0,\n",
    "    \"MaritalStatus_Single\": 0\n",
    "}\n",
    "\n",
    "for col, val in categorical_values.items():\n",
    "    if col in expected_features:\n",
    "        user_row[col] = val\n",
    "\n",
    "\n",
    "# Predict\n",
    "prediction = pipeline.predict(user_row)[0]\n",
    "print(\"Prediction:\", \"Default\" if prediction == 1 else \"No Default\")          "
   ]
  },
  {
   "cell_type": "markdown",
   "id": "7ea198b5-ee88-479b-8c74-bcab3e70b69f",
   "metadata": {},
   "source": [
    "<h1>Sample Data to Get 'Defualt' as a Result</h1>"
   ]
  },
  {
   "cell_type": "code",
   "execution_count": 4,
   "id": "77471e96-7ecd-4e9d-a3eb-db2d52d9a310",
   "metadata": {},
   "outputs": [
    {
     "name": "stdout",
     "output_type": "stream",
     "text": [
      "Prediction: Default\n"
     ]
    }
   ],
   "source": [
    "\n",
    "numeric_values = {\n",
    "    \"Age\": 25,              # Younger age → higher risk in some models\n",
    "    \"Income\": 30000,        # Lower income\n",
    "    \"LoanAmount\": 950000,   # Large loan compared to income\n",
    "    \"CreditScore\": 420,     # Very low credit score\n",
    "    \"MonthsEmployed\": 6,    # Short job history\n",
    "    \"NumCreditLines\": 1,    # Very few credit lines\n",
    "    \"InterestRate\": 25.0,   # Very high interest rate\n",
    "    \"LoanTerm\": 12,         # Short term\n",
    "    \"DTIRatio\": 0.55        # Very high debt-to-income ratio\n",
    "}\n",
    "\n",
    "for col, val in numeric_values.items():\n",
    "    if col in expected_features:\n",
    "        user_row[col] = val\n",
    "\n",
    "categorical_values = {\n",
    "    \"Education_Graduate\": 0,      # Adjust only if these exist\n",
    "    \"EmploymentType_Salaried\": 0,\n",
    "    \"MaritalStatus_Single\": 1     # Single may be riskier than married\n",
    "}\n",
    "\n",
    "for col, val in categorical_values.items():\n",
    "    if col in expected_features:\n",
    "        user_row[col] = val\n",
    "\n",
    "\n",
    "# Predict\n",
    "prediction = pipeline.predict(user_row)[0]\n",
    "print(\"Prediction:\", \"Default\" if prediction == 1 else \"No Default\")  "
   ]
  },
  {
   "cell_type": "code",
   "execution_count": null,
   "id": "ed6bca45-ffa4-4549-ae14-a059de22ebd6",
   "metadata": {},
   "outputs": [],
   "source": []
  }
 ],
 "metadata": {
  "kernelspec": {
   "display_name": "Python 3 (ipykernel)",
   "language": "python",
   "name": "python3"
  },
  "language_info": {
   "codemirror_mode": {
    "name": "ipython",
    "version": 3
   },
   "file_extension": ".py",
   "mimetype": "text/x-python",
   "name": "python",
   "nbconvert_exporter": "python",
   "pygments_lexer": "ipython3",
   "version": "3.11.5"
  }
 },
 "nbformat": 4,
 "nbformat_minor": 5
}
